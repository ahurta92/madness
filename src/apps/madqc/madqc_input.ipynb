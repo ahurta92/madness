{
 "cells": [
  {
   "cell_type": "code",
   "execution_count": 7,
   "metadata": {},
   "outputs": [],
   "source": [
    "import json\n",
    "from pathlib import Path\n",
    "\n",
    "\n",
    "# define function to read a json file\n",
    "\n",
    "def read_json_file(file_path: Path):\n",
    "    with open(file_path, 'r') as file:\n",
    "        return json.load(file)\n",
    "\n",
    "json_input_dir= Path('/home/ahurta92/dev/madness_worktrees/test_madqc/json_input')\n",
    "\n",
    "\n",
    "new_style_input= Path('/home/ahurta92/dev/madness_worktrees/test_madqc') \n",
    "# if new_style_input does not exist, create it\n",
    "\n",
    "if not new_style_input.exists():\n",
    "    new_style_input.mkdir()\n",
    "\n"
   ]
  },
  {
   "cell_type": "code",
   "execution_count": 19,
   "metadata": {},
   "outputs": [],
   "source": [
    "# read a json file\n",
    "input_json = read_json_file(json_input_dir / 'H2O.json')\n",
    "\n",
    "dft_block = input_json['dft']\n",
    "molecule_block = input_json['molecule']\n",
    "response_block = input_json['response']\n",
    "task_block ={\"driver\":\"energy\",\"method\":\"dft\"}\n",
    "\n",
    "del molecule_block['parameters']"
   ]
  },
  {
   "cell_type": "code",
   "execution_count": 25,
   "metadata": {},
   "outputs": [
    {
     "name": "stdout",
     "output_type": "stream",
     "text": [
      "{\n",
      "    \"task\": {\n",
      "        \"driver\": \"energy\",\n",
      "        \"method\": \"dft\"\n",
      "    },\n",
      "    \"dft\": {\n",
      "        \"xc\": \"hf\",\n",
      "        \"l\": 200,\n",
      "        \"maxiter\": 30,\n",
      "        \"localize\": \"new\",\n",
      "        \"protocol\": [\n",
      "            0.0001,\n",
      "            1e-06\n",
      "        ]\n",
      "    },\n",
      "    \"molecule\": {\n",
      "        \"geometry\": [\n",
      "            [\n",
      "                0.0,\n",
      "                0.0,\n",
      "                0.11729999761\n",
      "            ],\n",
      "            [\n",
      "                0.0,\n",
      "                0.757199998838,\n",
      "                -0.469200001024\n",
      "            ],\n",
      "            [\n",
      "                0.0,\n",
      "                -0.757199998838,\n",
      "                -0.469200001024\n",
      "            ]\n",
      "        ],\n",
      "        \"symbols\": [\n",
      "            \"O\",\n",
      "            \"H\",\n",
      "            \"H\"\n",
      "        ]\n",
      "    }\n",
      "}\n"
     ]
    }
   ],
   "source": [
    "# simple single_point energy calculation\n",
    "single_point_energy_dft={'task':task_block, 'dft':dft_block, 'molecule':molecule_block}\n",
    "print(json.dumps(single_point_energy_dft, indent=4))\n"
   ]
  },
  {
   "cell_type": "code",
   "execution_count": 33,
   "metadata": {},
   "outputs": [],
   "source": [
    "optimize_task_block ={\"driver\":\"optimize\",\"method\":\"dft\"}\n",
    "optimize_dft={'task':optimize_task_block, 'dft':dft_block, 'molecule':molecule_block,'optimize':{}}\n",
    "# maybe driver should include [energy, optimize,gradient, hessian, property,response]\n",
    "# run response\n",
    "# run optimize\n",
    "\n"
   ]
  },
  {
   "cell_type": "code",
   "execution_count": 34,
   "metadata": {},
   "outputs": [
    {
     "name": "stdout",
     "output_type": "stream",
     "text": [
      "{\n",
      "    \"task\": {\n",
      "        \"driver\": \"optimize\",\n",
      "        \"method\": \"mp2\"\n",
      "    },\n",
      "    \"mp2\": {\n",
      "        \"econv\": 1e-05,\n",
      "        \"dft\": {\n",
      "            \"xc\": \"hf\",\n",
      "            \"l\": 200,\n",
      "            \"maxiter\": 30,\n",
      "            \"localize\": \"new\",\n",
      "            \"protocol\": [\n",
      "                0.0001,\n",
      "                1e-06\n",
      "            ]\n",
      "        }\n",
      "    },\n",
      "    \"molecule\": {\n",
      "        \"geometry\": [\n",
      "            [\n",
      "                0.0,\n",
      "                0.0,\n",
      "                0.11729999761\n",
      "            ],\n",
      "            [\n",
      "                0.0,\n",
      "                0.757199998838,\n",
      "                -0.469200001024\n",
      "            ],\n",
      "            [\n",
      "                0.0,\n",
      "                -0.757199998838,\n",
      "                -0.469200001024\n",
      "            ]\n",
      "        ],\n",
      "        \"symbols\": [\n",
      "            \"O\",\n",
      "            \"H\",\n",
      "            \"H\"\n",
      "        ]\n",
      "    },\n",
      "    \"optimize\": {}\n",
      "}\n"
     ]
    }
   ],
   "source": [
    "# Case 1: Optimize MP2 Geometry\n",
    "\n",
    "task_block ={\"driver\":\"optimize\",\"method\":\"mp2\"}\n",
    "mp2_block = {\"econv\":1e-5,\"dft\":dft_block}\n",
    "optimize_mp2={'task':task_block,'mp2':mp2_block, 'molecule':molecule_block,'optimize':{}}\n",
    "print(json.dumps(optimize_mp2, indent=4))"
   ]
  },
  {
   "cell_type": "code",
   "execution_count": 35,
   "metadata": {},
   "outputs": [],
   "source": [
    "# Case 2: Compute Polarizability\n",
    "\n",
    "task_block ={\"driver\":\"property\",\"method\":\"dft\"}\n",
    "\n",
    "# response aka molresponse?\n",
    "property={\"response\":{\"order\":1,\"perturbation\":\"dipole\",\"frequencies\":[0,0,0.02,0.04]}}# polarizability at [0,0,0.02,0.04] au\n",
    "property={\"response\":{\"order\":2,\"perturbation\":\"dipole\",\"frequencies\":[0,0,0.02,0.04]}}# hyperpolarizability at all sum freq [0,0,0.02,0.04]\n",
    "\n"
   ]
  },
  {
   "cell_type": "code",
   "execution_count": 42,
   "metadata": {},
   "outputs": [
    {
     "name": "stdout",
     "output_type": "stream",
     "text": [
      "{\n",
      "    \"task\": {\n",
      "        \"driver\": \"property\",\n",
      "        \"method\": \"dft\"\n",
      "    },\n",
      "    \"dft\": {\n",
      "        \"xc\": \"hf\",\n",
      "        \"l\": 200,\n",
      "        \"maxiter\": 30,\n",
      "        \"localize\": \"new\",\n",
      "        \"protocol\": [\n",
      "            0.0001,\n",
      "            1e-06\n",
      "        ]\n",
      "    },\n",
      "    \"molecule\": {\n",
      "        \"geometry\": [\n",
      "            [\n",
      "                0.0,\n",
      "                0.0,\n",
      "                0.11729999761\n",
      "            ],\n",
      "            [\n",
      "                0.0,\n",
      "                0.757199998838,\n",
      "                -0.469200001024\n",
      "            ],\n",
      "            [\n",
      "                0.0,\n",
      "                -0.757199998838,\n",
      "                -0.469200001024\n",
      "            ]\n",
      "        ],\n",
      "        \"symbols\": [\n",
      "            \"O\",\n",
      "            \"H\",\n",
      "            \"H\"\n",
      "        ]\n",
      "    },\n",
      "    \"property\": {\n",
      "        \"excitation_energy\": {\n",
      "            \"dipole_stength\": true,\n",
      "            \"num_roots\": 5,\n",
      "            \"triplets\": true\n",
      "        }\n",
      "    }\n",
      "}\n"
     ]
    }
   ],
   "source": [
    "# Electronic Excitation Energies and Oscillator Strengths\n",
    "excitation_energy={\"dipole_stength\":True,\"num_roots\":5,\"triplets\":True}\n",
    "task_block ={\"driver\":\"property\",\"method\":\"dft\"}\n",
    "property={\"excitation_energy\":excitation_energy}\n",
    "excitation_input={'task':task_block, 'dft':dft_block, 'molecule':molecule_block,'property':property}\n",
    "print(json.dumps(excitation_input, indent=4))\n"
   ]
  },
  {
   "cell_type": "code",
   "execution_count": null,
   "metadata": {},
   "outputs": [],
   "source": [
    "# Optical Rotation\n",
    "# wavelength in nm\n",
    "optical_rotation = {'frequency':{0,0.001},\"wavelength\":{355.0,589.3}}\n",
    "\n"
   ]
  },
  {
   "cell_type": "markdown",
   "metadata": {},
   "source": [
    "# Raman intensities\n",
    "\n",
    "The differentiated frequency-dependent polarizability with respect to nuclear displacemnts"
   ]
  },
  {
   "cell_type": "code",
   "execution_count": 45,
   "metadata": {},
   "outputs": [
    {
     "name": "stdout",
     "output_type": "stream",
     "text": [
      "{\n",
      "    \"properties\": {\n",
      "        \"alpha\": {\n",
      "            \"linear\": {\n",
      "                \"frequencies\": [\n",
      "                    0.0,\n",
      "                    0.01,\n",
      "                    0.02,\n",
      "                    0.03,\n",
      "                    0.04\n",
      "                ]\n",
      "            }\n",
      "        }\n",
      "    }\n",
      "}\n"
     ]
    }
   ],
   "source": [
    "# static and frequency dependent polarizabilities\n",
    "\n",
    "\n",
    "\n",
    "alpha={\"properties\":{\"alpha\":{\"linear\":{\"frequencies\":[0.0,0.01,0.02,0.03,0.04]}}}}\n",
    "print(json.dumps(alpha, indent=4))\n",
    "\n",
    "\n",
    "\n",
    "\n",
    "\n",
    "\n",
    "\n",
    "\n"
   ]
  },
  {
   "cell_type": "code",
   "execution_count": null,
   "metadata": {},
   "outputs": [],
   "source": []
  }
 ],
 "metadata": {
  "kernelspec": {
   "display_name": "QRP",
   "language": "python",
   "name": "python3"
  },
  "language_info": {
   "codemirror_mode": {
    "name": "ipython",
    "version": 3
   },
   "file_extension": ".py",
   "mimetype": "text/x-python",
   "name": "python",
   "nbconvert_exporter": "python",
   "pygments_lexer": "ipython3",
   "version": "3.12.3"
  }
 },
 "nbformat": 4,
 "nbformat_minor": 2
}
